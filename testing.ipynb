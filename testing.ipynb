{
 "cells": [
  {
   "cell_type": "code",
   "execution_count": null,
   "metadata": {
    "collapsed": true
   },
   "outputs": [],
   "source": [
    "x = ag.Variable(torch.Tensor([7]), requires_grad=True)\n",
    "z_pred = x*4\n",
    "z = ag.Variable(torch.Tensor([29]))\n",
    "loss = nn.MSELoss()\n",
    "l = loss(z_pred,z)\n",
    "l.backward()\n",
    "print x.grad.data"
   ]
  },
  {
   "cell_type": "code",
   "execution_count": null,
   "metadata": {
    "collapsed": true
   },
   "outputs": [],
   "source": [
    "def f1(x):\n",
    "    y = x**2\n",
    "    print y.requires_grad\n",
    "    return y\n",
    "\n",
    "x = ag.Variable(torch.Tensor([7]), requires_grad=True)\n",
    "#c = ag.Variable(torch.Tensor([6]), requires_grad=True)\n",
    "z = ag.Variable(torch.Tensor([100]))\n",
    "\n",
    "v1 = f1(x)\n",
    "\n",
    "print v1\n",
    "y=x*2\n",
    "z_pred = f1(y)*4\n",
    "#v2 = f1(x)\n",
    "#print v1,v2\n",
    "\n",
    "loss = nn.MSELoss()\n",
    "l = loss(z_pred,z)\n",
    "l.backward()\n",
    "print x.grad.data\n",
    "print z.requires_grad"
   ]
  },
  {
   "cell_type": "code",
   "execution_count": null,
   "metadata": {
    "collapsed": true
   },
   "outputs": [],
   "source": [
    "#Making a subset of friends dataset to experiment the pipeline\n",
    "fr = open('Friends-dialogues.txt','r')\n",
    "fw = open('testd.txt','w')\n",
    "c = 0\n",
    "for l in fr:\n",
    "    c+=1\n",
    "    if c>1000:\n",
    "        break\n",
    "    fw.write(l)\n",
    "print c\n",
    "fw.close()\n",
    "fr.close()"
   ]
  },
  {
   "cell_type": "code",
   "execution_count": null,
   "metadata": {
    "collapsed": true
   },
   "outputs": [],
   "source": [
    "#Making counter to pass to vocab file\n",
    "from collections import Counter\n",
    "\n",
    "f = open('Friends-dialogues.txt','r')\n",
    "vc = Counter()\n",
    "for l in f:\n",
    "    vc.update(Counter(l.split()))\n",
    "#print vc"
   ]
  },
  {
   "cell_type": "code",
   "execution_count": null,
   "metadata": {
    "collapsed": true
   },
   "outputs": [],
   "source": [
    "#creating the vocab object\n",
    "from datetime import datetime\n",
    "import vocab\n",
    "st = datetime.now()\n",
    "vcb = vocab.Vocab(vc, wv_type = \"glove.840B\",min_freq=4,specials = [\"EOS\",\"SOS\"])\n",
    "print datetime.now()-st"
   ]
  },
  {
   "cell_type": "code",
   "execution_count": null,
   "metadata": {
    "collapsed": true
   },
   "outputs": [],
   "source": [
    "print datetime.now()\n"
   ]
  },
  {
   "cell_type": "code",
   "execution_count": null,
   "metadata": {
    "collapsed": true
   },
   "outputs": [],
   "source": [
    "print len(vcb)\n"
   ]
  },
  {
   "cell_type": "code",
   "execution_count": null,
   "metadata": {
    "collapsed": true
   },
   "outputs": [],
   "source": [
    "sum(vc.values())"
   ]
  },
  {
   "cell_type": "code",
   "execution_count": null,
   "metadata": {
    "collapsed": true
   },
   "outputs": [],
   "source": [
    "t1 = vcb.stoi['rod']\n",
    "t2 = vcb.vectors[t1]\n",
    "print t1,t2"
   ]
  },
  {
   "cell_type": "code",
   "execution_count": null,
   "metadata": {},
   "outputs": [],
   "source": [
    "\n",
    "import framework as fw\n",
    "reload(fw)\n",
    "eg = fw.EmbedGlove('F1.txt',10)\n",
    "#egv = eg.EmbedMat()"
   ]
  },
  {
   "cell_type": "code",
   "execution_count": null,
   "metadata": {},
   "outputs": [],
   "source": [
    "print len(eg.vcb)"
   ]
  },
  {
   "cell_type": "code",
   "execution_count": null,
   "metadata": {},
   "outputs": [],
   "source": [
    "print eg.wordtoi(\"joey\")"
   ]
  },
  {
   "cell_type": "code",
   "execution_count": null,
   "metadata": {},
   "outputs": [],
   "source": [
    "print (eg.vcb).itos"
   ]
  },
  {
   "cell_type": "code",
   "execution_count": null,
   "metadata": {},
   "outputs": [],
   "source": [
    "print len(eg(\"I am god\"))"
   ]
  },
  {
   "cell_type": "code",
   "execution_count": null,
   "metadata": {},
   "outputs": [],
   "source": [
    "import torch\n",
    "reload(fw)\n",
    "torch.manual_seed(1)"
   ]
  },
  {
   "cell_type": "code",
   "execution_count": null,
   "metadata": {
    "collapsed": true
   },
   "outputs": [],
   "source": [
    "ls = fw.EncoderLSTM(300,300,0.1,n_layers=2)"
   ]
  },
  {
   "cell_type": "code",
   "execution_count": null,
   "metadata": {
    "collapsed": true
   },
   "outputs": [],
   "source": [
    "ds = fw.DecoderLSTM(300,300,20,n_layers=2)"
   ]
  },
  {
   "cell_type": "code",
   "execution_count": null,
   "metadata": {},
   "outputs": [],
   "source": [
    "out,h = ls(eg(\"I am good god\"))\n",
    "print out"
   ]
  },
  {
   "cell_type": "code",
   "execution_count": null,
   "metadata": {},
   "outputs": [],
   "source": [
    "ds.hidden = h\n",
    "out,h2 = ds(eg(\"Good\"))\n",
    "#print out[1].data.topk(1)[1][0]\n",
    "print out.data.topk(1)[1][0][0]"
   ]
  },
  {
   "cell_type": "code",
   "execution_count": null,
   "metadata": {
    "collapsed": true
   },
   "outputs": [],
   "source": [
    "\n",
    "import main\n",
    "reload(main)\n",
    "import torch.nn as nn\n",
    "from torch import optim\n",
    "s1 = \"I am good god\"\n",
    "s2 = \"i yo\"\n",
    "enc_opt = optim.SGD(ls.parameters(), lr=0.1)\n",
    "dec_opt = optim.SGD(ds.parameters(), lr=0.1)\n"
   ]
  },
  {
   "cell_type": "code",
   "execution_count": null,
   "metadata": {
    "collapsed": true
   },
   "outputs": [],
   "source": [
    "for i in range(10):\n",
    "    l = main.train_lstm_instance(s1,s2,ls,ds,enc_opt,dec_opt,nn.NLLLoss(),eg)"
   ]
  },
  {
   "cell_type": "code",
   "execution_count": null,
   "metadata": {
    "collapsed": true
   },
   "outputs": [],
   "source": [
    "reload(main)\n",
    "l = main.train_lstm_instance(s1,s2,ls,ds,enc_opt,dec_opt,nn.NLLLoss(),eg)"
   ]
  },
  {
   "cell_type": "code",
   "execution_count": null,
   "metadata": {
    "collapsed": true
   },
   "outputs": [],
   "source": [
    "print l\n"
   ]
  },
  {
   "cell_type": "code",
   "execution_count": null,
   "metadata": {
    "collapsed": true
   },
   "outputs": [],
   "source": [
    "print l.data"
   ]
  },
  {
   "cell_type": "code",
   "execution_count": null,
   "metadata": {
    "collapsed": true
   },
   "outputs": [],
   "source": [
    "print l.data[0]"
   ]
  },
  {
   "cell_type": "code",
   "execution_count": null,
   "metadata": {
    "collapsed": true
   },
   "outputs": [],
   "source": [
    "import os\n",
    "torch.save(ls,os.getcwd()+\"/Checkpoints/test\")\n",
    "ls"
   ]
  },
  {
   "cell_type": "code",
   "execution_count": null,
   "metadata": {
    "collapsed": true
   },
   "outputs": [],
   "source": [
    "ls"
   ]
  },
  {
   "cell_type": "code",
   "execution_count": null,
   "metadata": {},
   "outputs": [],
   "source": [
    "import main\n",
    "import framework as fw\n",
    "reload(main)\n",
    "reload(fw)\n",
    "main.train_lstm('F1.txt',freq=10,n_epochs = 1)"
   ]
  },
  {
   "cell_type": "code",
   "execution_count": null,
   "metadata": {},
   "outputs": [],
   "source": [
    "main.predict_lstm(\"how are you\",\"F1.txt\",10)"
   ]
  },
  {
   "cell_type": "code",
   "execution_count": null,
   "metadata": {
    "collapsed": true
   },
   "outputs": [],
   "source": [
    "f = open()"
   ]
  }
 ],
 "metadata": {
  "kernelspec": {
   "display_name": "Python 2",
   "language": "python",
   "name": "python2"
  },
  "language_info": {
   "codemirror_mode": {
    "name": "ipython",
    "version": 2
   },
   "file_extension": ".py",
   "mimetype": "text/x-python",
   "name": "python",
   "nbconvert_exporter": "python",
   "pygments_lexer": "ipython2",
   "version": "2.7.12"
  }
 },
 "nbformat": 4,
 "nbformat_minor": 2
}
