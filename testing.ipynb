{
 "cells": [
  {
   "cell_type": "code",
   "execution_count": null,
   "metadata": {
    "collapsed": true
   },
   "outputs": [],
   "source": [
    "x = ag.Variable(torch.Tensor([7]), requires_grad=True)\n",
    "z_pred = x*4\n",
    "z = ag.Variable(torch.Tensor([29]))\n",
    "loss = nn.MSELoss()\n",
    "l = loss(z_pred,z)\n",
    "l.backward()\n",
    "print x.grad.data"
   ]
  },
  {
   "cell_type": "code",
   "execution_count": null,
   "metadata": {
    "collapsed": true
   },
   "outputs": [],
   "source": [
    "def f1(x):\n",
    "    y = x**2\n",
    "    print y.requires_grad\n",
    "    return y\n",
    "\n",
    "x = ag.Variable(torch.Tensor([7]), requires_grad=True)\n",
    "#c = ag.Variable(torch.Tensor([6]), requires_grad=True)\n",
    "z = ag.Variable(torch.Tensor([100]))\n",
    "\n",
    "v1 = f1(x)\n",
    "\n",
    "print v1\n",
    "y=x*2\n",
    "z_pred = f1(y)*4\n",
    "#v2 = f1(x)\n",
    "#print v1,v2\n",
    "\n",
    "loss = nn.MSELoss()\n",
    "l = loss(z_pred,z)\n",
    "l.backward()\n",
    "print x.grad.data\n",
    "print z.requires_grad"
   ]
  },
  {
   "cell_type": "code",
   "execution_count": null,
   "metadata": {
    "collapsed": true
   },
   "outputs": [],
   "source": [
    "#Making a subset of friends dataset to experiment the pipeline\n",
    "fr = open('Friends-dialogues.txt','r')\n",
    "fw = open('testd.txt','w')\n",
    "c = 0\n",
    "for l in fr:\n",
    "    c+=1\n",
    "    if c>1000:\n",
    "        break\n",
    "    fw.write(l)\n",
    "print c\n",
    "fw.close()\n",
    "fr.close()"
   ]
  },
  {
   "cell_type": "code",
   "execution_count": null,
   "metadata": {
    "collapsed": true
   },
   "outputs": [],
   "source": [
    "#Making counter to pass to vocab file\n",
    "from collections import Counter\n",
    "\n",
    "f = open('Friends-dialogues.txt','r')\n",
    "vc = Counter()\n",
    "for l in f:\n",
    "    vc.update(Counter(l.split()))\n",
    "#print vc"
   ]
  },
  {
   "cell_type": "code",
   "execution_count": null,
   "metadata": {
    "collapsed": true
   },
   "outputs": [],
   "source": [
    "#creating the vocab object\n",
    "from datetime import datetime\n",
    "import vocab\n",
    "st = datetime.now()\n",
    "vcb = vocab.Vocab(vc, wv_type = \"glove.840B\",min_freq=4,specials = [\"EOS\",\"SOS\"])\n",
    "print datetime.now()-st"
   ]
  },
  {
   "cell_type": "code",
   "execution_count": null,
   "metadata": {
    "collapsed": true
   },
   "outputs": [],
   "source": [
    "print datetime.now()\n"
   ]
  },
  {
   "cell_type": "code",
   "execution_count": null,
   "metadata": {
    "collapsed": true
   },
   "outputs": [],
   "source": [
    "print len(vcb)\n"
   ]
  },
  {
   "cell_type": "code",
   "execution_count": null,
   "metadata": {
    "collapsed": true
   },
   "outputs": [],
   "source": [
    "sum(vc.values())"
   ]
  },
  {
   "cell_type": "code",
   "execution_count": null,
   "metadata": {
    "collapsed": true
   },
   "outputs": [],
   "source": [
    "t1 = vcb.stoi['rod']\n",
    "t2 = vcb.vectors[t1]\n",
    "print t1,t2"
   ]
  },
  {
   "cell_type": "code",
   "execution_count": 10,
   "metadata": {},
   "outputs": [
    {
     "name": "stdout",
     "output_type": "stream",
     "text": [
      "loading word vectors from /home/rohith/Documents/NLP/Dialogue/glove.840B.300d.pt\n"
     ]
    }
   ],
   "source": [
    "\n",
    "import framework as fw\n",
    "reload(fw)\n",
    "eg = fw.EmbedGlove('F1.txt',10)\n",
    "#egv = eg.EmbedMat()"
   ]
  },
  {
   "cell_type": "code",
   "execution_count": null,
   "metadata": {
    "collapsed": true
   },
   "outputs": [],
   "source": [
    "print len(eg.vcb)"
   ]
  },
  {
   "cell_type": "code",
   "execution_count": null,
   "metadata": {
    "collapsed": true
   },
   "outputs": [],
   "source": [
    "print eg.wordtoi(\"joey\")"
   ]
  },
  {
   "cell_type": "code",
   "execution_count": 6,
   "metadata": {
    "collapsed": true
   },
   "outputs": [
    {
     "name": "stdout",
     "output_type": "stream",
     "text": [
      "['<unk>', 'EOS', 'SOS', 'i', 'you', 'the', 'to', 'a', 'and', \"i'm\", 'that', 'oh,', 'my', 'is', 'it', 'of', 'this', 'just', 'in', 'so', \"it's\", 'what', 'have', 'we', \"don't\", 'not', 'was', 'with', 'for', 'do', 'be', 'all', 'your', 'are', 'me', 'but', 'know', \"you're\", 'no,', 'well,', 'get', 'gonna', \"that's\", 'on', 'okay.', 'like', 'about', 'if', 'you.', 'can', 'he', 'okay,', 'what?', 'think', 'yeah,', 'yeah.', 'it.', 'how', 'uh,', 'at', 'she', 'hey,', 'got', 'no.', 'out', 'want', 'come', 'really', 'did', 'go', 'her', 'know,', \"can't\", 'me.', 'hey.', 'one', 'when', 'see', 'because', 'would', 'right.', 'up', \"i'll\", 'they', 'oh.', 'why', 'could', 'tell', 'were', \"didn't\", \"we're\", 'there', 'know.', \"he's\", 'had', 'good', 'no', 'little', 'who', 'going', 'love', 'then', 'some', 'um,', 'here', 'look', 'mean,', \"she's\", 'an', 'take', 'hi.', 'right,', 'from', \"what's\", 'or', 'that.', 'here.', 'god.', 'make', 'him', 'say', 'been', 'should', \"i've\", 'okay?', 'sorry.', 'as', 'maybe', 'never', 'thank', 'right', \"there's\", 'will', 'our', 'ha,', 'his', 'am', 'look,', 'you?', 'you,', 'give', 'back', 'need', 'guys', 'great.', 'let', 'now', 'believe', 'said', 'ha.', 'this.', 'wanna', 'where', 'thought', \"let's\", 'something', 'go.', 'still', 'time', 'kind', 'over', 'big', 'it?', 'them', 'doing', 'more', 'out.', 'two', 'even', 'uh', 'talk', 'yes,', 'so,', 'guy', 'very', 'on,', 'on.', 'good.', 'her.', 'has', 'by', 'much', 'thing', 'really?', 'any', 'me?', 'gotta', \"they're\", 'feel', 'him.', 'ross', 'right?', 'that?', 'only', 'last', 'too.', \"doesn't\", 'these', 'god,', 'great', 'people', 'first', 'put', 'there.', 'call', 'fine.', 'way', 'huh?', 'us', 'now.', 'ross.', 'up.', 'new', 'ross,', 'too', 'getting', \"i'd\", 'told', 'know?', 'does', 'yes.', 'um', 'heh.', 'hi,', 'now,', 'other', 'do.', 'having', 'me,', 'off', 'those', 'rachel', 'joey', 'wow.', 'time.', 'joey,', 'ever', 'wanted', 'into', 'made', 'guess', \"we'll\", 'oh!', 'like,', 'sorry,', 'talking', 'it,', 'down', 'than', 'mean', 'monica', 'why?', 'guys.', 'stop', \"isn't\", 'work', 'chandler', 'god!', \"won't\", 'here?', 'went', 'always', 'nice', 'thanks.', 'again.', 'chandler.', 'someone', \"you've\", 'actually', 'joey.', 'keep', 'wait', 'lot', 'one.', 'pretty', 'find', 'sure.', 'things', 'sure', 'do?', 'anything', 'doing?', 'before', 'hear', 'after', 'ask', 'this?', 'but,', 'is.', 'thing.', 'remember', 'and,', 'help', 'better', 'listen,', 'back.', 'wait,', 'it!', \"you'll\", 'them.', 'which', \"wouldn't\", 'best', 'being', 'another', 'stuff', \"wasn't\", 'happy', 'no!', 'long', 'baby', 'looking', 'phoebe,', 'wow,', 'see,', 'wait.', \"who's\", 'us.', 'here,', 'man.', 'honey,', 'ooh,', 'yeah?', 'three', 'sorry', 'excuse', 'chandler,', 'guy.', 'might', 'rachel.', 'night.', 'whole', 'around', 'every', 'phoebe', 'thinking', 'nothing', 'bad', 'try', 'meet', \"haven't\", 'play', 'that,', 'may', 'supposed', 'trying', 'came', 'totally', 'in.', 'monica,', 'baby.', 'monica.', 'saw', 'please', 'wants', 'actually,', 'probably', 'woman', \"you'd\", 'uh-huh.', 'phoebe.', 'their', 'pick', 'coming', 'used', 'together.', 'each', 'looks', 'next', 'left', \"couldn't\", 'not.', 'live', 'start', 'stay', 'such', 'since', 'something.', 'day', 'name', 'care', 'everything', 'friend', 'rach,', 'mr.', 'sex', 'through', 'ahem.', 'hard', 'much.', 'up?', 'well', 'hey!', 'whoa,', 'night', 'place', 'use', 'took', 'down.', \"here's\", 'must', 'rachel,', 'bye.', 'did.', 'show', 'nice.', 'work.', 'girl', 'married', 'hate', 'leave', 'guys,', 'old', 'move', 'day.', 'seen', 'what,', 'called', 'check', 'most', 'stuff.', 'fun.', 'gave', 'nothing.', 'same', 'way.', \"we've\", 'already', 'found', 'miss', 'both', 'making', 'real', 'ooh.', 'her?', 'minute.', 'watch', 'years', 'eat', 'forget', 'gets', 'hello?', 'hold', 'knew', 'mm-hm.', 'look.', 'please.', 'telling', 'dr.', 'friends', 'on?', 'makes', 'say,', 'stupid', 'whoa.', 'heard', 'is,', 'pheebs,', 'ready', 'anymore.', 'bring', 'happened', 'taking', 'tonight.', 'date', 'mm.', 'to.', 'ugh.', 'okay', \"aren't\", 'fun', 'else', 'there,', 'are.', 'him?', 'there?', 'man', 'somebody', 'about?', 'done', 'saying', 'couple', 'go,', 'wrong', 'anything.', 'off.', 'away', 'mom', 'pheebs.', 'room.', 'today.', 'also', 'enough', 'hang', 'i,', \"it'll\", 'ross?', 'sounds', 'without', 'hell', 'room', 'while', 'you!', 'see.', 'thanks', 'not?', 'now?', 'hope', 'kiss', 'me!', 'bad.', 'funny.', 'home', 'part', 'ah.', 'everybody', 'man,', 'own', 'money', 'idea.', 'ha-ha-ha.', 'this,', 'wear', 'huh.', 'job.', 'life.', 'break', 'cool.', 'job', 'just,', 'later.', 'wish', 'asked', \"how's\", 'until', 'friend.', 'weird', 'glad', \"monica's\", 'place.', 'please,', 'sleep', 'course', 'end', 'over.', 'five', 'read', 'aw.', 'high', 'say?', 'seeing', 'sit', 'throw', 'wedding', 'broke', 'hello.', 'see?', 'together', 'go?', 'hello,', 'means', 'open', 'ah,', 'damn', 'lost', 'moving', 'party', 'aah!', 'comes', 'everyone', 'playing', 'all.', \"shouldn't\", 'four', 'rach.', 'up,', 'buy', 'hit', 'many', 'married.', 'people.', 'yes!', 'anyway,', 'before.', \"can't.\", 'marry', 'days', 'wedding.', 'least', 'life', 'way,', 'deal.', 'hot', 'said,', 'says', 'happen', 'problem.', 'true.', 'turn', 'better.', 'almost', 'am.', 'anyone', 'cannot', 'dinner', 'go!', 'living', 'really,', 'thanks,', 'wrong.', 'kill', 'met', 'phone', 'again?', 'between', 'dad', 'date.', 'giving', 'great!', 'happened?', 'important', 'so.', 'started', 'her,', 'home.', 'talked', 'wearing', \"where's\", 'women', 'about.', 'away.', 'crazy', 'parents', 'sweet.', 'ahem,', 'listen', 'out,', 'out?', 'weird.', 'yet.', 'apartment.', 'bet', 'friends.', 'good,', 'hand', 'head', 'joey?', 'kids', 'pay', 'tomorrow.', 'funny', 'think?', 'game.', 'going?', \"joey's\", 'morning.', 'beautiful', 'different', 'name.', 'to,', 'anybody', 'chandler?', 'him,', 'knows', 'person', 'face', 'mine.', \"chandler's\", 'matter', 'heh,', 'naked', 'once', 'working', 'on!', 'party.', 'under', 'apartment', \"don't.\", 'fine,', 'mad', 'then.', 'want.', 'bit', 'first.', 'girl.', 'picture', 'time,', \"weren't\", 'dude,', 'please?', 'rachel?', 'realize', 'unless', \"we'd\", 'crazy.', 'honey.', 'mean?', 'money.', 'run', 'ugh,', 'well.', 'here!', 'myself', 'tomorrow', 'years.', 'chance', 'everything.', 'liked', 'six', 'so?', 'ago.', 'game', 'aw,', 'dad.', 'happen.', 'listen.', 'myself.', 'say.', 'second', 'second.', 'understand', 'understand.', 'was.', 'brought', 'emma', 'father', \"he'll\", 'idea', 'is?', 'movie', 'number', 'ow!', 'seems', 'sound', 'then,', 'able', 'hmm.', 'reason', 'sure,', 'thinks', 'again,', 'cut', 'definitely', 'feeling', 'nobody', 'something?', 'walk', 'cute.', 'happy.', 'meant', \"ross'\", 'us?', 'was,', '10', 'be.', 'few', 'head.', 'mrs.', 'one?', 'sometimes', 'thing?', 'yourself', 'care.', 'cute', 'girls', \"guy's\", 'half', 'mind', 'mom.', \"rachel's\", 'woman.', 'yeah!', 'amazing.', \"didn't.\", 'goes', 'know!', 'late.', 'looked', 'minutes.', 'till', 'watching', 'absolutely.', 'change', 'fact,', 'food', 'missed', 'rest', 'seem', 'set', 'spend', 'birthday', 'cool', 'dance', 'do,', 'done.', 'exactly', 'finally', 'in,', 'lose', 'problem', 'slept', 'touch', 'tried', 'waiting', 'whatever', 'afraid', 'answer', 'asking', 'can.', 'close', 'likes', 'ow.', 'person.', 'phone.', 'calling', 'else.', 'felt', 'left.', 'one,', 'picked', 'really.', 'stupid.', 'up!', 'will.', 'coffee', 'except', 'free', 'hurt', 'i?', 'loved', \"she'll\", 'year.', 'again', 'ben.', 'coming.', 'figure', 'going.', 'great,', 'hair', \"it'd\", 'kidding?', 'monica?', 'perfect', 'question.', 'ready?', 'shut', \"they'll\", 'tonight?', 'because,', 'ben', 'favorite', 'figured', 'forgot', 'geller.', 'guy?', 'amazing', 'christmas', 'deal', \"how'd\", 'mother', 'with.', 'babies', 'bought', 'fire', 'front', 'things.', 'world.', 'alone.', 'house', 'kidding.', 'phoebe?', 'shh.', 'sweetie.', 'worst', '\"i', 'bye,', 'either.', 'more.', 'sex.', 'that!', 'bathroom.', 'dinner.', 'other.', 'ring', 'smell', 'sweet', 'wow!', 'course.', 'feels', 'guys?', 'lot.', 'stand', 'two.', 'worry', 'across', 'boy.', 'emily', 'fact', 'hard.', 'huge', 'kissed', 'okay!', 'right!', 'sort', 'stop.', 'write', 'year', 'yet?', 'behind', 'dog', 'finish', \"it's,\", 'mike', 'night,', 'seriously,', 'sitting', 'who?', 'back?', 'bed.', 'bing.', 'either', 'enough.', 'hours', 'love.', 'office', 'oh', 'ready.', 'relationship', 'sister.', 'story.', 'times', 'word', 'all,', 'beautiful.', 'carol', 'dating', 'first,', 'guy,', 'late', 'matter?', 'mind.', 'mine', 'moved', 'needs', \"phoebe's\", 'promise', 'sister', 'talk.', 'to?', 'tonight', 'whoa!', 'worked', 'against', 'around.', 'book', 'emily.', 'house.', 'kids.', 'ow,', 'sent', 'table', 'them?', 'two,', 'wait!', 'decided', 'extra', 'fall', 'gone', 'help.', 'kid', 'play.', 'sure?', 'welcome', \"would've\", 'car', 'cat', 'door', 'emma.', 'fault.', 'fell', 'food.', 'grab', 'hands', 'like?', 'lives', 'out!', 'owe', 'ralph', 'spent', 'the,', 'third', 'turns', '20', 'anyway.', 'appreciate', 'baby?', 'bye-bye.', 'catch', 'doctor', 'easy.', 'excited', 'janice.', 'joe.', 'joey!', 'kept', 'lie', 'mon,', \"one's\", 'pants.', 'question', 'save', 'smelly', 'special', 'win', 'wondering', 'alone', 'call.', 'car.', 'cat.', 'else?', 'for?', 'guess.', 'happened.', 'hi!', 'hours.', 'serious.', \"she'd\", 'she?', 'table.', 'takes', 'time?', 'we?', 'whose', 'wife', 'wrong?', 'yours.', 'yourself.', 'ah!', 'babies.', \"everything's\", 'face.', 'ha!', 'leaving', 'marriage', 'married?', 'minutes', 'point', 'pregnant.', 'richard', 'school', 'though.', 'tv', 'yep.', 'be?', 'enjoy', 'entire', 'fight', 'gone.', 'invite', 'luck.', 'office.', 'part.', 'ran', 'relax.', 'ross!', 'starting', 'stuck', 'together,', 'tribbiani.', 'water', 'anything?', 'box', 'day,', 'different.', 'feelings', \"he'd\", 'kick', 'loves', 'news.', 'none', 'obviously', 'ring.', 'side', 'three.', 'together?', 'turned', 'audition', 'boyfriend', 'ever.', 'eyes', 'family', 'fine', 'freak', 'gotten', 'ice', 'outside', 'pass', 'send', 'serious', 'seven', 'story', 'sweetie,', 'thanksgiving', 'top', 'week.', 'while.', 'wrote', 'book.', 'coffee.', 'father.', 'god', 'hair.', 'hanging', 'he?', 'learn', 'less', 'little.', 'middle', 'night?', 'relationship.', 'school.', 'thing,', 'tickets', 'worth', 'best.', 'door.', 'down,', 'drink', 'easy', 'everybody.', 'lucky', 'name?', 'putting', 'serious?', 'sleeping', 'small', 'stick', 'though', 'too?', 'week', 'actor.', 'aunt', 'dad,', 'doctor.', 'happen?', 'hoping', 'meeting', 'mike.', 'morning', 'needed', 'past', 'plus,', 'quite', 'upset', 'calm', 'come.', 'die', 'gift', 'heart', 'long.', 'lunch', 'mom,', 'movie.', 'pants', 'place?', 'said.', 'sir.', 'speak', 'terrible.', 'unbelievable.', 'wake', 'walking', 'wonderful', 'ass.', 'ate', 'back,', 'bit.', 'boy,', 'does.', 'for.', 'girlfriend.', 'green.', \"hasn't\", 'imagine', 'kissing', 'leave.', 'line', 'lives.', 'massage', 'mean.', 'point.', 'pregnant', 'remember,', 'second?', 'sick.', 'song', 'talking.', 'this!', 'times.', 'too,', 'us,', 'worried', 'baby,', 'boss', \"could've\", 'dead', 'eight', 'forever.', 'friend,', 'funny,', 'grow', 'have.', 'known', 'london.', 'or,', 'pull', 'show.', 'someone.', 'teach', 'them,', 'today', 'welcome.', 'world', 'yay!', 'ass', 'ball', 'bed', 'completely', 'did?', 'dressed', 'goodbye.', 'interesting.', 'maybe.', 'no?', 'ooh!', 'pheebs?', 'piece', 'realized', 'son', 'soon', 'soon.', 'stay.', 'stole', 'surprise', 'susan', \"that'll\", 'think,', 'won', 'wonder', 'worry.', 'young', '30', 'allowed', 'although', 'be,', 'bigger', 'borrow', 'bunch', 'clear', 'clothes', 'course,', 'decide', 'did,', 'dress', 'eye', 'fat', 'freaked', 'goodbye', 'holding', 'joke', 'lived', 'paid', 'pretend', 'rachel!', 'secret', 'sick', 'single', 'store', 'terrible', \"that'd\", 'there!', 'tough', 'trust', 'uh-oh.', 'using', 'college', 'drunk', 'frank', 'handle', 'hot.', 'joke.', 'lady', 'luck', 'man!', 'minute', 'minute,', 'nope.', 'order', 'played', 'professor', 'rach?', 'rid', 'room?', 'scared', 'tape', 'today?', 'very,', 'why,', 'besides,', 'change.', 'congratulations.', 'cup', 'drake', 'drop', 'fake', 'family.', 'for,', 'how?', 'in?', 'invited', 'men', 'number.', 'once.', 'perfect.', 'plan.', 'richard.', 'share', 'walked', 'want,', 'works', '\"the', 'a,', 'acting', 'along', 'anything,', 'been?', 'birthday.', 'boyfriend.', 'break.', 'card.', 'dead.', 'drive', 'far', \"hadn't\", 'happens', 'home,', 'julie.', 'lady.', 'mistake.', 'moment', 'mon.', 'monica!', 'naked.', 'ones', 'parents.', 'proud', 'quit', 'running', \"should've\", 'sign', 'soap', 'stopped', 'street', 'ugh!', 'watch.', 'weeks', 'what.', 'whatever.', 'women.', 'are,', 'buddy.', 'caught', 'close.', 'coffee?', 'dog.', 'dude.', 'kid.', 'mark', 'months', 'of.', 'sad.', 'standing', 'they?', 'too!', 'try.', 'whoo!', 'wife.', 'also,', \"baby's\", 'become', 'chicken', 'city', 'class.', 'clean', 'eating', 'explain', 'fix', 'hand.', 'like.', 'paying', 'pretty.', 'promised', 'sell', 'sing', 'starts', 'street.', 'stuff?', 'think.', 'threw', 'tonight,', 'uh?', 'weekend', \"what'd\", 'win.', 'work,', 'yet', 'you.\"', 'about,', 'asleep.', 'boy', 'dropped', 'during', 'eyes.', 'green', 'human', 'hundred', 'inside', 'instead', 'joe,', 'man?', 'named', 'not,', 'party?', 'people?', 'phoebe!', 'red', 'ride', 'roll', 'thinking,', 'through.', 'tiny', 'ugly', 'we,', 'apparently,', 'baby!', 'called.', 'christmas.', 'come?', 'cover', 'crying', 'dear', 'especially', 'fired.', 'guys!', 'hands.', 'hat.', 'hug', 'kiss.', 'learned', 'lunch.', 'matter.', 'monkey', 'nice,', 'push', 'return', 'scene', 'sense.', 'son.', 'staying', 'step', 'thanksgiving.', 'worse', 'york', '50', 'act', 'apologize', 'around,', 'asleep', 'birth', 'bucks.', 'children.', 'crazy,', 'credit', 'crush', 'date?', 'ew.', 'fair.', 'full', 'him!', 'its', 'killed', 'lying', 'pizza.', 'regular', 'santa', 'seat.', 'shot', 'sold', 'want?', 'whenever', 'worry,', 'yes?', 'audition.', 'barry', 'body', 'bringing', 'business.', 'card', 'comfortable', 'crazy?', 'day?', 'deal?', 'die.', 'fast.', 'gay', 'gives', 'good!', 'good?', 'goodbye,', 'had.', 'hates', 'hey', 'hour', 'hour.', 'keeps', 'knowing', 'light', 'line.', 'message', 'million', 'monkey.', 'morning,', 'one!', 'porn.', 'raise', 'rather', 'restaurant', 'romantic', 'saying,', 'shh!', 'shower', 'sleep.', 'split', 'weeks.', 'white', '\"oh,', 'absolutely', 'accept', 'apparently', 'are?', 'back!', 'bag.', 'blow', 'blue', 'bob', 'breaking', 'brother.', 'building', 'butt', 'charge', 'choice.', 'city.', 'college.', 'copy', 'count', 'cry', 'doing.', 'dream', 'dress.', 'duck', 'fancy', 'flight', 'have?', 'hospital', 'husband', 'lovely', 'married,', 'milk', 'money?', 'names', 'off?', 'old.', 'over,', 'promise.', 'quit.', 'reading', 'sad', 'seemed', 'seriously.', 'smart', 'smells', 'throwing', 'uh.', 'usually', 'wine', 'with?', 'writing', 'ago,', 'beat', 'big,', 'big.', 'biggest', 'bucks', 'building.', 'cold.', 'cool,', 'couch.', \"dad's\", 'dirty', 'early', 'everybody,', 'excellent.', 'expect', 'falling', 'fit', 'funny?', 'girlfriend', 'holiday', 'honey?', 'horrible', 'interested', 'job,', 'later,', 'letting', 'machine.', 'marcel.', 'mess', 'mother.', 'neither', 'of,', 'propose', 'questions', 'relax,', 'remember?', 'roommate.', 'sexy.', 'shoes', 'shot.', 'smoke', \"somebody's\", 'staring', 'taste', \"that's,\", 'two?', 'uncle', \"valentine's\", 'work?', 'yours', 'actual', 'ben,', 'boat.', 'calls', 'chance.', 'checking', 'chick', 'clothes.', 'deserve', \"emma's\", 'ended', 'engagement', 'gay.', 'gosh.', 'i.', 'in!', 'key', 'kidding', 'list', 'listening', 'lots', 'mm,', 'museum', 'off,', 'pictures', 'planning', 'plans', 'restaurant.', 'ridiculous.', 'ruined', 'seat', 'she,', 'smart.', 'sucks.', 'taken', 'taught', 'trip', 'tv.', 'underwear', 'whoever', 'and?', 'before?', 'better?', 'black', 'bother', 'broken', 'cab', 'case', 'changed', 'child', 'clearly', 'cold', 'company', 'died', 'do!', 'down?', 'exactly.', 'fair', 'finished', 'forgive', 'fun?', 'grandmother', 'guest', 'gunther.', 'hall.', 'helping', 'hospital.', 'incredible.', 'mary', 'merry', 'message.', 'met.', 'months.', 'music', 'neither.', 'now!', 'open.', 'ordered', 'paper', 'present.', 'problem?', 'room,', 'roommate', 'says,', 'sense', 'sex?', 'sexy', \"someone's\", 'something,', 'speech.', 'spending', 'star', 'stuff,', \"they'd\", \"they've\", 'turkey', 'wedding?', 'weird,', 'with,', 'all?', 'barely', 'bathroom', 'bite', 'candy.', 'certainly', 'chair.', 'class', 'coat.', 'conversation', 'cry.', 'died.', 'divorce', 'dry', 'fault', 'feet', 'fill', 'foot', 'future', 'geller?', 'get?', 'gift.', 'girl?', 'huge.', 'hurt.', \"i'm,\", 'idiot.', 'incredible', 'keeping', 'list.', 'own.', 'personal', 'plan', 'plane.', 'reason.', 'seconds', 'shower.', 'still,', 'straight', 'straight.', 'swear', 'tell.', 'them!', 'thought,', 'town', 'underwear.', 'where?', 'yes', '\"i\\'m', 'aah.', 'ago', 'apartment?', 'bad?', 'better,', 'bitch.', 'blame', 'brother', 'cake.', 'check.', 'chip', 'dance.', 'dancing', 'daughter', 'days.', 'dinosaur', \"don't,\", 'dumped', 'everyone.', 'from?', 'geller', 'given', 'grade.', 'hated', 'huh,', 'hung', 'jealous', 'killing', 'kitchen.', 'knicks', 'lesbian.', 'look!', 'luck,', 'maid', \"man's\", 'marrying', 'maybe,', 'moving.', 'much,', 'nervous.', 'news', 'notice', 'percent', 'pizza', 'porn', 'prove', 'quick', 'ruin', 'short', 'song.', 'tape.', 'thinking.', 'thinking?', 'tomorrow,', 'turning', 'uh-huh,', 'woman,', 'agent', 'along.', 'already.', 'bag', 'bing,', 'bottle', 'breathe.', 'candy', 'career', 'cat,', 'certain', 'chair', 'charlie.', 'cookies', 'couch', 'daddy', 'did!', 'dinner?', 'double', 'drink.', 'drinking', 'driving', 'easier', 'fire.', 'fun,', 'game?', 'gosh,', 'greatest', 'half.', 'her!', 'hi', 'hmm?', 'janice', 'keys.', 'marriage.', 'mention', 'missing', 'month', 'month.', 'near', 'next?', 'offered', 'paper.', \"people's\", 'picking', 'plane', 'poor', 'ring?', 'rules', 'sexual', 'shoes.', 'should.', 'steal', 'strong.', 'suck', 'sweetheart.', 'switch', 'thousand', 'tired', 'today,', 'video', 'why.', 'word.', 'worse.', 'ahead.', 'anyone.', 'awful.', 'bob.', 'cab.', 'child.', 'control.', 'correct.', 'divorced', 'drink?', 'drunk.', 'eat.', 'emma?', 'famous', 'feel.', 'fight.', 'floor.', 'fly', 'girl,', 'great?', 'growing', 'happening', 'hard,', 'home?', 'husband.', 'important.', 'is!', 'jack', 'job?', 'joe?', 'jokes.', 'lauren', 'machine', 'mad.', 'magic', 'marcel?', 'minute?', \"mom's\", 'mon?', 'much?', 'park', 'party,', 'people,', 'phone?', 'place,', 'plans.', 'please!', 'pottery', 'present', 'presents', 'rent', 'set.', 'side.', \"sister's\", 'somewhere', 'stop!', 'store.', 'strip', 'surprise.', 'tells', 'ten', 'tribbiani', 'trouble', 'tulsa.', 'walk.', 'weird?', 'will,', 'window.', 'words', 'words.', 'yesterday', 'yet,', '100', 'actor', 'actually.', 'ahem', 'although,', 'ask.', 'at?', 'bachelor', \"ben's\", 'bet.', 'body.', 'boxes', 'careful.', 'cares?', 'carry', 'chandler!', 'comes.', 'crap.', 'dollars.', 'dream.', 'duck.', 'emma,', 'exact', 'eye.', \"girl's\", 'goes.', 'have,', 'help?', 'hide', 'hire', 'hired', 'james', 'join', 'ladies', 'laugh', 'lauren.', 'left,', 'long?', \"mike's\", 'moment.', \"name's\", 'next.', 'ones.', 'over?', 'passed', 'picture.', 'play?', 'saying?', 'shh,', 'shopping', 'showed', 'speaking', 'special.', 'strong', 'sweater.', 'swing', 'tickets.', 'totally.', 'trouble.', 'weekend.', 'when?', 'would.', 'year,', 'year?', 'yourself?', 'again!', 'anniversary.', 'bar', 'bedroom.', 'before,', 'birthday,', 'blew', 'boat', 'boss.', 'bottom', 'boys', 'bra.', 'breasts', 'brown', 'busy', 'charlie', 'chocolate', 'cost', 'couple.', 'dated', 'divorced.', 'ew,', 'exciting.', 'fast', 'feelings.', 'fired', 'follow', 'fourth', 'french', 'fruit', 'giant', 'girls.', 'gunther,', 'hall', 'heh', 'hotel', 'involved', 'jealous.', 'la', 'late,', 'later', 'leaving.', 'lied', 'locked', 'longer', 'mom?', 'money,', 'move.', 'movie?', 'opened', 'pack', 'part?', 'pee', 'pink', 'play,', 'plus', 'presents.', 'purse.', 'sandwich', 'saved', 'saving', 'scare', 'scary', 'screw', 'seconds.', 'sees', 'shall', 'shirt.', 'smoke.', 'stealing', 'though,', \"today's\", 'total', 'truth.', 'us!', 'wedding,', 'well?', 'were.', \"where'd\", \"won't.\", \"year's\", \"you're,\", '\"what', '15', 'airport.', 'anyway', 'attracted', 'away,', 'blind', 'call?', 'cancel', 'central', 'changing', 'character', 'chicken.', 'chinese', 'consider', 'control', 'cookies.', 'could.', 'david', 'difficult', 'downstairs.', 'eh,', 'end.', 'fan', 'fighting', 'five,', 'flip', 'friend?', 'glass', \"grandmother's\", 'hearing', 'hell,', 'help!', 'horrible.', 'hours,', 'italian', 'janice?', 'jump', 'kicked', 'laundry', 'little,', 'losing', 'married!', 'meat.', 'medical', 'mind?', 'museum.', 'nervous', 'plate', 'punch', 'question?', 'road', 'same.', 'saying.', 'seriously?', 'singing', 'some.', 'sorry!', 'space', 'spit', 'suddenly', 'suppose', 'these.', 'toilet', 'town.', 'upset.', 'way?', 'window', 'wore', 'works.', 'wrong,', 'yep,', 'yesterday.', '\"you', '12', 'alive.', 'area.', 'assistant', 'awkward.', 'bedroom', 'buffay.', 'butt.', \"can't,\", 'checked', 'closer', 'conversation.', 'crap', 'dad?', 'daddy,', 'date,', 'deep', 'difference.', 'eight.', 'engaged.', 'ew!', 'fan.', 'fast,', 'fat.', 'feeding', 'feet.', 'filled', 'finger', 'food?', 'fool', 'four.', 'free.', \"friend's\", 'happening.', 'harder', 'head,', 'idiot', 'interview', 'joshua.', 'juice.', 'laughing', 'leather', 'lesbian', 'lie.', 'lot,', 'lovely.', 'men.', 'messed', 'milk.', 'moment?', 'normal', 'nose', 'off!', 'older', 'opening', 'opera', 'other?', 'pain', 'pants?', 'paul.', 'pulled', 'rock', 'serve', 'shirt', 'showing', 'silly.', 'sister?', 'six.', 'smoking', 'sometime.', 'soul', 'sperm', 'sweater', 'table?', 'talk,', 'team.', 'those.', 'thought.', 'three,', 'turn.', 'um.', 'waited', 'watched', 'which,', 'woman?', 'working.', 'years,', '30.', 'admit', 'age', 'ahead', 'air', 'already?', 'anybody.', 'assistant.', 'bad,', 'bathroom?', 'bed?', 'bike', 'bing!', 'blond', 'book?', 'borrowed', 'business', 'cares', 'chance,', 'chef', 'chef.', 'coffeehouse', 'coming?', 'cook', 'could,', 'cut!', 'daddy.', 'dark', 'decision.', 'desk', 'divorce.', 'emily,', 'ever!', \"everybody's\", 'favor?', 'finds', 'flowers', 'flying', 'football', 'forward', 'frank.', 'freaking', 'going,', 'guitar', 'heads', 'health', 'hello', 'hmm,', 'honest', 'hurry', 'identical', 'incredibly', 'introduce', 'jessica', 'jokes', 'judge', 'kathy', 'knock', 'life,', 'lights', 'lines', 'london', 'long,', 'lucky.', 'myself,', 'need.', 'nine', 'or?', 'outside.', 'paolo', 'plate.', 'plenty', 'pocket.', 'pregnant?', 'pretending', 'princess', 'questions.', 'reminds', 'romantic.', 'rules.', 'saturday', 'scared.', 'school,', 'school?', 'screwed', 'sec?', 'second,', 'situation', 'small.', 'star.', 'start.', 'stood', 'system.', 'time!', 'true', 'waitress.', 'warm', 'wash', 'way!', 'willing', \"woman's\", 'wonderful.', 'yelling', 'york.', 'accident.', 'adult', 'afford', 'angry', 'animal', 'answer.', 'around?', 'ass!', 'assume', 'beer.', 'bird', 'books.', 'boots', 'box.', 'boxes.', \"brother's\", 'buying', 'by.', 'cake', 'carol.', 'cheese', 'club.', 'comfortable.', 'cousin', 'crying.', 'david.', 'dear.', 'death', 'delivery', 'department.', 'dinner,', 'dollars?', 'down!', 'dressing', 'eh.', 'ex-wife', 'excellent', 'excited.', 'fashion', 'final', 'fine!', 'first?', 'forgot.', 'gym.', 'happened,', 'hat', 'heard.', 'heat', 'help,', 'helped', 'himself', 'himself.', 'hitting', 'hook', 'hungry.', 'ice.', 'ideas', 'interesting', 'interview.', 'jacket.', 'joseph', 'kinds', 'la,', 'laugh.', 'leaves', 'leg', 'legs', 'lose.', 'marcel,', 'mark.', 'mark?', \"men's\", 'message?', 'mike?', 'mindy.', 'mm-mm.', \"mother's\", 'mouth', 'mouth.', 'my.', 'name,', 'never.', 'not!', 'number?', 'numbers', 'offer', 'oh?', 'paleontology', 'paris.', 'pee.', 'phase', 'plastic', 'pool', 'proposed', 'real.', 'rush', 'sandwich.', 'sec.', 'shoot', 'shoot.', 'sir,', 'sister,', 'somebody.', 'sounded', 'soup.', 'spring', 'subway', 'super', 'surprised', 'talks', 'team', 'these?', 'things,', 'ticket.', 'true?', 'twice.', 'uh-uh.', 'voice', 'wall.', 'water.', 'were,', 'who,', 'win,', 'would,', 'yay.', '17', '7', 'according', 'adoption', 'agreed', 'alice', 'answering', 'anymore?', 'anyway?', 'apartment,', 'award', 'awkward', 'ball.', 'beach', 'ben?', 'bill', 'bill.', 'birds.', 'both.', 'brain', 'breast', 'card?', 'carrying', 'celebrate', 'charity', 'cheer', 'cheese.', 'choose', 'club', 'cool!', 'cried', 'cups.', 'dumb', 'dying', 'easy,', 'eat?', 'eats', 'emergency.', 'empty', \"everyone's\", 'experience', \"father's\", 'father?', 'flowers.', 'friends,', 'friends?', 'from.', 'fun!', 'gavin', 'geller,', 'girl!', \"god's\", 'got,', 'gotcha.', 'green,', 'green?', 'guy!', 'hair?', 'hand,', 'honeymoon.', 'hurts', 'idea?', 'insane.', 'kills', 'kissing.', 'lead', 'life!', 'loud.', 'loving', 'lying.', 'major', 'male', 'matter,', 'messing', 'mommy', 'monday.', 'ms.', 'mwah.', 'nowhere', 'pair', 'park.', 'perfectly', 'perhaps', 'pet', 'planned', 'popular', 'prepared', 'problem,', 'public', 'quick.', 'ready,', 'respect', \"richard's\", 'richard,', 'ring,', 'round', 'safe', 'said?', 'scene.', 'selling', 'sending', 'settle', 'sex,', 'shopping.', 'sir?', 'slow', 'smell.', 'smoking.', 'started.', 'story?', 'stripper', 'sudden,', 'support', 'surprise!', 'surprised.', 'tea', 'teaching', 'technically,', 'then?', \"there'll\", 'ticket', 'tie', 'tip', 'toast', 'tomorrow?', 'touched', 'touching', 'trade', 'trip.', 'truth', 'tulsa', 'twice', 'uncomfortable.', 'upstairs', 'ursula.', 'vegas.', 'wanting', 'wants.', 'whether', \"wife's\", 'wind', 'woke', 'young.', 'yours?', '10.', '5', 'accidentally', 'address', 'advice.', 'air.', 'airport', 'am!', 'anymore,', 'arms', 'attractive.', 'awesome.', 'bar.', 'bedroom?', 'beer', 'bird.', 'birthday?', 'bitch', 'boarding', 'bobby', 'born', 'bowl', 'boy!', 'british', 'brother,', 'bunny', \"can't!\", 'can,', \"carol's\", 'clear.', 'closet.', 'coffeehouse.', 'commercial', 'cooking', 'count.', 'cups', 'cut.', 'david,', 'definitely.', 'desk.', 'doctor?', 'doctors', 'dog?', 'dollars', \"don't!\", \"don't?\", 'downstairs', 'embarrassing', 'enjoying', 'entertainment', 'estelle.', 'evening.', 'everyone,', 'everywhere.', 'experience.', 'feel?', 'fifth', 'fingers', 'fish', 'five.', 'floor', 'fresh', 'fridge', 'funniest', 'game,', 'gone?', 'ground', 'guessing', 'gym', 'ha', 'heart.', 'honor.', 'hooked', 'if,', 'information', \"isn't.\", 'jill', 'jill.', 'juice', 'kathy.', 'keys', 'kicking', 'kid,', 'knew.', 'knows.', 'later?', 'lawyer.', 'lights.', 'london,', 'look?', 'mike,', 'minutes,', 'music.', 'noise', 'nothing,', 'nuts', 'official', 'page', 'pain.', 'pass.', 'perform', 'phone,', 'pie.', 'places', 'plates', 'plays', 'pleasure.', 'porsche.', 'possibly', 'pregnancy', 'press', 'push.', 'rain', 'remember.', 'rest.', 'rip', 'rub', 'run,', 'run.', 'sandwich?', 'science', 'seen.', 'shake', 'shop.', 'sisters', 'sit.', 'situation.', 'slip', 'smart,', 'smile.', \"something's\", 'songs', 'sorry?', 'speed', 'spot', 'squeeze', 'stayed', 'strange', 'stuffed', 'stupid,', 'sudden', 'suit', 'swear.', 'sweet,', 'tag', 'teacher.', 'test', 'those?', 'tip.', 'tons', 'true,', 'twin', 'twins.', 'um?', 'uncomfortable', 'walks', 'wet', 'wha?', 'while,', \"why'd\", 'wine.', 'woo-hoo!', '0', 'afternoon.', 'agree', 'amazing!', 'apologize.', 'aware', 'away?', 'band.', 'bang!', 'barry.', 'basically,', 'basket', 'bed,', 'ben!', 'born.', 'boys.', 'bra', 'burn', 'butter', 'careful', 'case,', 'changed.', 'cigarettes', 'climb', 'coat', 'come,', 'common.', 'couch?', \"couldn't.\", 'crab', 'cup.', 'cute,', 'dates', 'daughter.', 'deal!', 'decision', 'delicious.', 'diet', 'difference', \"doctor's\", \"doesn't.\", 'done!', 'door?', 'drake.', 'dressed.', 'drew', 'drinks', 'drove', 'dump', 'ear', 'earrings.', 'egg', 'eggs', 'elizabeth', 'elizabeth.', 'else,', 'embarrassed', 'embarrassing.', 'ends', 'exchange', 'expecting', 'expensive', 'eyes!', 'far.', 'finding', 'flirting', 'focus', 'gone,', 'got?', 'grade', 'gross.', 'guilty', 'happens.', 'hell.', 'helps', 'herself.', 'ho,', 'hopes', 'hot,', 'hour?', 'house,', 'inside.', 'jack.', 'joe', \"joey's.\", 'joke,', 'julie?', 'junior', 'kids,', 'king', 'ladies.', 'lady,', 'land', 'large', 'lift', 'line,', 'mac', 'makeup', 'me.\"', 'means,', 'mine!', 'mona', 'movies.', \"must've\", 'nancy', 'nanny.', 'natural', 'nobel', 'office?', 'officially', 'orange', 'otherwise,', 'parties', 'paul,', 'people!', 'phalange.', 'possible', 'pounds.', 'power', 'prefer', 'pressure', 'propose.', 'puppy', 'purse?', 'quiet', 'rat', 'remind', 'report', 'restaurant,', 'roommate,', 'rule', 'salmon', 'sat', 'scientist', 'separate', 'seriously', 'stars', 'terrific.', 'tight.', 'tongue', 'tree', 'trick', 'ultimate', 'unfair.', 'upset?', 'wanted.', 'was?', 'ways', \"who'd\", 'wife,', 'won!', 'won.', 'written', 'yeah', 'yell', '14', '2', '25', '8.', 'age.', 'ah?', 'al', 'allergic', 'amount', 'amy.', 'animals.', 'anywhere.', 'apartment!', 'are!', 'asks', 'available', 'aw', 'aw!', 'awful', 'aww.', 'band', 'bank', 'based', 'birds', 'bitch!', 'blocks', 'bobby.', 'boots.', 'boring', 'bothers', 'boyfriend,', 'break!', 'breakfast', 'breaks', 'breasts.', 'bride', 'bride.', 'brings', 'brooklyn', 'by,', 'c.h.e.e.s.e.', 'camera.', 'cards.', 'care,', 'carol,', 'cheating', 'children', 'city,', 'cleaned', 'cleaning', 'computer', 'computer.', 'congratulations', 'country', 'couples', 'covered', 'crazy!', 'cream.', 'danny.', 'dating.', 'decide.', 'dessert.', 'director', 'doctor,', 'does,', 'dog,', 'done?', 'drinks.', 'embarrassed.', 'emily?', 'engaged', 'enjoyed', 'enough!', 'evening', 'everybody?', 'everything?', 'face,', 'face?', 'familiar', 'familiar.', 'fantastic.', 'father,', 'favor.', 'fear', 'film', 'fish.', 'freak.', 'fridge.', 'funny!', 'future.', 'garbage', 'gas', 'gavin.', 'get.', 'gold', 'grandma', 'happy?', 'he,', 'heads.', 'hear.', 'history', 'hopefully', 'hot?', 'hurts.', 'husband,', \"i'll,\", 'idea!', 'impossible.', 'inappropriate', 'janice,', 'jerk', 'joshua', 'keys?', 'king.', 'kitchen', 'kitty,', 'knocked', 'knows,', 'labor.', 'las', 'left?', 'looking.', 'loud', 'lousy', 'love,', 'love?', 'magical', 'maternity', 'means.', 'mess.', 'mine?', 'mostly', 'my,', 'nap.', 'neck.', 'need?', 'new.', 'nickname', 'nights', 'normal.', 'note', 'note.', 'notice.', 'obviously,', 'of?', 'old,', 'open,', 'opposite', 'other,', 'otherwise', 'pack.', 'paolo.', 'peace', 'pfft.', 'pheebs', 'phone!', 'picture?', 'pizza?', 'pop', 'post', 'pot', 'president', 'pretty,', 'private', 'professional', 'queen', 'quickly.', 'rach', 'rach!', 'ramoray.', 'recognize', 'record', 'regret', 'remembered', 'richard?', 'rough', 'running.', 'see!', 'setting', 'seven,', 'seven.', 'shame', 'slap', 'sleeping.', 'smile', 'smoked', 'someone?', 'spell', 'spin', 'stop,', 'story,', 'student', 'suck.', 'sucks!', 'susan.', 'swear,', 'sweetheart,', 'talk?', 'taped', 'tea.', 'toast.', 'tough.', 'treat.', 'tuesday.', 'understand,', 'unh!', 'unh.', 'ursula', 'van', 'voice.', 'waiting.', 'warn', 'waste', \"when's\", 'wins.', \"women's\", 'york,', 'yourself,', '\"hi,', '\"no', '00.', '15.', '4', '4.', '5.', 'action!', 'ago?', 'alan.', 'alrighty.', 'always,', 'am,', 'amy', 'amy,', 'annoying', 'apart', 'art', 'ask?', 'available.', 'bag?', 'barn', 'basically', 'batch', 'beauty', 'became', 'beef', 'beer?', 'bike.', 'blah,', 'board', 'bug', 'built', 'bumped', 'burned', 'busy.', 'camp.', 'candles.', 'capital', 'career.', 'casting', 'cell', 'chances', 'channel.', 'character.', 'china', 'clean.', 'closed', 'closet', 'commitment.', 'complete', 'congratulations!', 'convince', 'create', 'cross', 'cute?', 'damn.', 'dates.', 'day!', 'death.', 'diaper', \"didn't!\", 'doing?\"', 'earlier', 'early.', 'exciting', 'family,', 'female', 'flirting.', 'floor?', 'forgotten', 'four,', 'furniture', 'gay?', 'general', 'generous', 'gentle', 'gentlemen,', 'got.', 'grandmother.', 'group', 'grown', 'gum.', 'hanukkah', 'harder.', 'hardly', 'hat?', \"he's,\", 'head!', 'healthy', 'heat.', 'held', 'hello!', 'hole.', 'homo', 'honey', 'hop', 'house?', 'hungry', 'idiot!', 'information,', 'insurance', 'it.\"', 'jeez,', 'jobs.', 'john', 'kate.', 'key.', 'laughing.', 'lay', 'lead.', 'learning', 'legs.', 'less.', 'letter.', 'life?', 'lines.', 'lips', 'lipstick', 'lock', 'loser.', 'machine?', 'mail', 'make.', 'marcel', 'meat', 'meeting.', 'messages', 'midnight.', 'minsk', 'minsk.', 'mistake', 'mommy.', 'mona.', 'monday', 'movies?', 'new?', 'nipples', \"nobody's\", 'nose.', 'noticed', 'numbers.', 'nurse.', 'obvious', 'office,', 'oops.', 'opportunity', 'order.', 'ours', 'ourselves.', 'oven', 'pages', 'pants!', \"parents'\", \"part's\", 'patch', 'pen.', 'pete', 'pillow.', 'poker', 'porsche', 'practice', 'repeat', 'responsibility', 'rich', 'roger.', 'salad.', 'saturday.', 'scares', 'security', 'shave', 'shooting', 'shower?', 'simple', 'size', 'smaller', 'social', 'someday', 'someplace', 'somewhere.', 'soon,', 'sorry.\"', 'speech', 'spelled', 'spoke', 'sports', 'state', 'stay,', 'sticking', 'stories', 'sun', 'supportive.', 'switching', 'tag.', 'talented.', 'tall', 'test.', 'thankful', 'theme', 'things?', 'thoughts', 'thrown', 'thursday.', 'times?', 'tired.', 'tom', 'train', 'tux.', 'uh-huh?', 'unbelievable!', 'vermont.', 'video.', 'wall', 'wearing?', 'weddings', 'weeks,', 'woman!', 'women?', 'worrying', 'wrap', 'years?', 'yellow', 'yemen.', 'yesterday,', 'zoo']\n"
     ]
    }
   ],
   "source": [
    "print (eg.vcb).itos"
   ]
  },
  {
   "cell_type": "code",
   "execution_count": null,
   "metadata": {
    "collapsed": true
   },
   "outputs": [],
   "source": [
    "print len(eg(\"I am god\"))"
   ]
  },
  {
   "cell_type": "code",
   "execution_count": 11,
   "metadata": {},
   "outputs": [
    {
     "data": {
      "text/plain": [
       "<torch._C.Generator at 0x7f9e1c50ef18>"
      ]
     },
     "execution_count": 11,
     "metadata": {},
     "output_type": "execute_result"
    }
   ],
   "source": [
    "import torch\n",
    "reload(fw)\n",
    "torch.manual_seed(1)"
   ]
  },
  {
   "cell_type": "code",
   "execution_count": 12,
   "metadata": {
    "collapsed": true
   },
   "outputs": [],
   "source": [
    "ls = fw.EncoderLSTM(300,300,0.1,n_layers=2)"
   ]
  },
  {
   "cell_type": "code",
   "execution_count": 13,
   "metadata": {
    "collapsed": true
   },
   "outputs": [],
   "source": [
    "ds = fw.DecoderLSTM(300,300,20,n_layers=2)"
   ]
  },
  {
   "cell_type": "code",
   "execution_count": null,
   "metadata": {
    "collapsed": true
   },
   "outputs": [],
   "source": [
    "out,h = ls(eg(\"I am good god\"))\n",
    "print out"
   ]
  },
  {
   "cell_type": "code",
   "execution_count": null,
   "metadata": {
    "collapsed": true
   },
   "outputs": [],
   "source": [
    "ds.hidden = h\n",
    "out,h2 = ds(eg(\"Good\"))\n",
    "#print out[1].data.topk(1)[1][0]\n",
    "print out.data.topk(1)[1][0][0]"
   ]
  },
  {
   "cell_type": "code",
   "execution_count": 14,
   "metadata": {
    "collapsed": true
   },
   "outputs": [],
   "source": [
    "\n",
    "import main\n",
    "reload(main)\n",
    "import torch.nn as nn\n",
    "from torch import optim\n",
    "s1 = \"I am good god\"\n",
    "s2 = \"i yo\"\n",
    "enc_opt = optim.SGD(ls.parameters(), lr=0.1)\n",
    "dec_opt = optim.SGD(ds.parameters(), lr=0.1)\n"
   ]
  },
  {
   "cell_type": "code",
   "execution_count": null,
   "metadata": {
    "collapsed": true
   },
   "outputs": [],
   "source": [
    "for i in range(10):\n",
    "    l = main.train_lstm_instance(s1,s2,ls,ds,enc_opt,dec_opt,nn.NLLLoss(),eg)"
   ]
  },
  {
   "cell_type": "code",
   "execution_count": 30,
   "metadata": {},
   "outputs": [
    {
     "name": "stdout",
     "output_type": "stream",
     "text": [
      "False\n"
     ]
    }
   ],
   "source": [
    "reload(main)\n",
    "l = main.train_lstm_instance(s1,s2,ls,ds,enc_opt,dec_opt,nn.NLLLoss(),eg)"
   ]
  },
  {
   "cell_type": "code",
   "execution_count": null,
   "metadata": {
    "collapsed": true
   },
   "outputs": [],
   "source": [
    "print l\n"
   ]
  },
  {
   "cell_type": "code",
   "execution_count": null,
   "metadata": {
    "collapsed": true
   },
   "outputs": [],
   "source": [
    "print l.data"
   ]
  },
  {
   "cell_type": "code",
   "execution_count": null,
   "metadata": {
    "collapsed": true
   },
   "outputs": [],
   "source": [
    "print l.data[0]"
   ]
  },
  {
   "cell_type": "code",
   "execution_count": null,
   "metadata": {
    "collapsed": true
   },
   "outputs": [],
   "source": [
    "import os\n",
    "torch.save(ls,os.getcwd()+\"/Checkpoints/test\")\n",
    "ls"
   ]
  },
  {
   "cell_type": "code",
   "execution_count": null,
   "metadata": {
    "collapsed": true
   },
   "outputs": [],
   "source": [
    "ls"
   ]
  },
  {
   "cell_type": "code",
   "execution_count": 7,
   "metadata": {},
   "outputs": [
    {
     "name": "stdout",
     "output_type": "stream",
     "text": [
      "loading word vectors from /home/rohith/Documents/NLP/Dialogue/glove.840B.300d.pt\n",
      "150\n",
      "623\n",
      "===================================================================================================================\n",
      "Epoch =  0\n",
      "Step =  1000\n",
      "Loss =  3.7528036015\n",
      "Time =  0m 18s (- 2m 46s)\n",
      "===================================================================================================================\n",
      "Epoch =  0\n",
      "Step =  2000\n",
      "Loss =  3.20745652175\n",
      "Time =  0m 37s (- 2m 28s)\n",
      "===================================================================================================================\n",
      "Epoch =  0\n",
      "Step =  3000\n",
      "Loss =  3.28919807005\n",
      "Time =  0m 53s (- 2m 5s)\n",
      "===================================================================================================================\n",
      "Epoch =  0\n",
      "Step =  4000\n",
      "Loss =  2.71771700859\n",
      "Time =  1m 9s (- 1m 43s)\n",
      "===================================================================================================================\n",
      "Epoch =  0\n",
      "Step =  5000\n",
      "Loss =  2.96423361492\n",
      "Time =  1m 25s (- 1m 25s)\n"
     ]
    },
    {
     "ename": "KeyboardInterrupt",
     "evalue": "",
     "output_type": "error",
     "traceback": [
      "\u001b[0;31m---------------------------------------------------------------------------\u001b[0m",
      "\u001b[0;31mKeyboardInterrupt\u001b[0m                         Traceback (most recent call last)",
      "\u001b[0;32m<ipython-input-7-fb7930e7c3fb>\u001b[0m in \u001b[0;36m<module>\u001b[0;34m()\u001b[0m\n\u001b[1;32m      3\u001b[0m \u001b[0mreload\u001b[0m\u001b[0;34m(\u001b[0m\u001b[0mmain\u001b[0m\u001b[0;34m)\u001b[0m\u001b[0;34m\u001b[0m\u001b[0m\n\u001b[1;32m      4\u001b[0m \u001b[0mreload\u001b[0m\u001b[0;34m(\u001b[0m\u001b[0mfw\u001b[0m\u001b[0;34m)\u001b[0m\u001b[0;34m\u001b[0m\u001b[0m\n\u001b[0;32m----> 5\u001b[0;31m \u001b[0mmain\u001b[0m\u001b[0;34m.\u001b[0m\u001b[0mtrain_lstm\u001b[0m\u001b[0;34m(\u001b[0m\u001b[0;34m'F1.txt'\u001b[0m\u001b[0;34m,\u001b[0m\u001b[0mfreq\u001b[0m\u001b[0;34m=\u001b[0m\u001b[0;36m10\u001b[0m\u001b[0;34m,\u001b[0m\u001b[0mn_epochs\u001b[0m \u001b[0;34m=\u001b[0m \u001b[0;36m5\u001b[0m\u001b[0;34m)\u001b[0m\u001b[0;34m\u001b[0m\u001b[0m\n\u001b[0m",
      "\u001b[0;32m/home/rohith/Documents/NLP/Dialogue/main.py\u001b[0m in \u001b[0;36mtrain_lstm\u001b[0;34m(corpus, n_epochs, save_every, freq, min_len_sentence, n_layers, dropout)\u001b[0m\n\u001b[1;32m    122\u001b[0m                                 \u001b[0;32mcontinue\u001b[0m\u001b[0;34m\u001b[0m\u001b[0m\n\u001b[1;32m    123\u001b[0m                         \u001b[0;32melse\u001b[0m\u001b[0;34m:\u001b[0m\u001b[0;34m\u001b[0m\u001b[0m\n\u001b[0;32m--> 124\u001b[0;31m                                 \u001b[0mloss1\u001b[0m \u001b[0;34m=\u001b[0m\u001b[0mtrain_lstm_instance\u001b[0m\u001b[0;34m(\u001b[0m\u001b[0mprev\u001b[0m\u001b[0;34m,\u001b[0m\u001b[0mpres\u001b[0m\u001b[0;34m,\u001b[0m\u001b[0mencoder\u001b[0m\u001b[0;34m,\u001b[0m\u001b[0mdecoder\u001b[0m\u001b[0;34m,\u001b[0m\u001b[0mencoder_opt\u001b[0m\u001b[0;34m,\u001b[0m\u001b[0mdecoder_opt\u001b[0m\u001b[0;34m,\u001b[0m\u001b[0mnn\u001b[0m\u001b[0;34m.\u001b[0m\u001b[0mCrossEntropyLoss\u001b[0m\u001b[0;34m(\u001b[0m\u001b[0;34m)\u001b[0m\u001b[0;34m,\u001b[0m\u001b[0membedding\u001b[0m\u001b[0;34m)\u001b[0m\u001b[0;34m\u001b[0m\u001b[0m\n\u001b[0m\u001b[1;32m    125\u001b[0m                                 \u001b[0mloss\u001b[0m \u001b[0;34m+=\u001b[0m \u001b[0mloss1\u001b[0m\u001b[0;34m\u001b[0m\u001b[0m\n\u001b[1;32m    126\u001b[0m                                 \u001b[0mtot_loss\u001b[0m\u001b[0;34m+=\u001b[0m\u001b[0mloss1\u001b[0m\u001b[0;34m.\u001b[0m\u001b[0mdata\u001b[0m\u001b[0;34m[\u001b[0m\u001b[0;36m0\u001b[0m\u001b[0;34m]\u001b[0m\u001b[0;34m\u001b[0m\u001b[0m\n",
      "\u001b[0;32m/home/rohith/Documents/NLP/Dialogue/main.py\u001b[0m in \u001b[0;36mtrain_lstm_instance\u001b[0;34m(input_sentence, target_sentence, encoder, decoder, encoder_opt, decoder_opt, crit, embedding)\u001b[0m\n\u001b[1;32m     57\u001b[0m         \u001b[0;31m#decoder.initHidden()\u001b[0m\u001b[0;34m\u001b[0m\u001b[0;34m\u001b[0m\u001b[0m\n\u001b[1;32m     58\u001b[0m \u001b[0;34m\u001b[0m\u001b[0m\n\u001b[0;32m---> 59\u001b[0;31m         \u001b[0mout\u001b[0m\u001b[0;34m,\u001b[0m \u001b[0mh\u001b[0m \u001b[0;34m=\u001b[0m \u001b[0mdecoder\u001b[0m\u001b[0;34m(\u001b[0m\u001b[0minp_embed\u001b[0m\u001b[0;34m)\u001b[0m\u001b[0;34m\u001b[0m\u001b[0m\n\u001b[0m\u001b[1;32m     60\u001b[0m         \u001b[0mout1\u001b[0m \u001b[0;34m=\u001b[0m \u001b[0mout\u001b[0m\u001b[0;34m.\u001b[0m\u001b[0mclone\u001b[0m\u001b[0;34m(\u001b[0m\u001b[0;34m)\u001b[0m\u001b[0;34m\u001b[0m\u001b[0m\n\u001b[1;32m     61\u001b[0m         \u001b[0;31m#print out1[1]\u001b[0m\u001b[0;34m\u001b[0m\u001b[0;34m\u001b[0m\u001b[0m\n",
      "\u001b[0;32m/usr/local/lib/python2.7/dist-packages/torch/nn/modules/module.pyc\u001b[0m in \u001b[0;36m__call__\u001b[0;34m(self, *input, **kwargs)\u001b[0m\n\u001b[1;32m    204\u001b[0m \u001b[0;34m\u001b[0m\u001b[0m\n\u001b[1;32m    205\u001b[0m     \u001b[0;32mdef\u001b[0m \u001b[0m__call__\u001b[0m\u001b[0;34m(\u001b[0m\u001b[0mself\u001b[0m\u001b[0;34m,\u001b[0m \u001b[0;34m*\u001b[0m\u001b[0minput\u001b[0m\u001b[0;34m,\u001b[0m \u001b[0;34m**\u001b[0m\u001b[0mkwargs\u001b[0m\u001b[0;34m)\u001b[0m\u001b[0;34m:\u001b[0m\u001b[0;34m\u001b[0m\u001b[0m\n\u001b[0;32m--> 206\u001b[0;31m         \u001b[0mresult\u001b[0m \u001b[0;34m=\u001b[0m \u001b[0mself\u001b[0m\u001b[0;34m.\u001b[0m\u001b[0mforward\u001b[0m\u001b[0;34m(\u001b[0m\u001b[0;34m*\u001b[0m\u001b[0minput\u001b[0m\u001b[0;34m,\u001b[0m \u001b[0;34m**\u001b[0m\u001b[0mkwargs\u001b[0m\u001b[0;34m)\u001b[0m\u001b[0;34m\u001b[0m\u001b[0m\n\u001b[0m\u001b[1;32m    207\u001b[0m         \u001b[0;32mfor\u001b[0m \u001b[0mhook\u001b[0m \u001b[0;32min\u001b[0m \u001b[0mself\u001b[0m\u001b[0;34m.\u001b[0m\u001b[0m_forward_hooks\u001b[0m\u001b[0;34m.\u001b[0m\u001b[0mvalues\u001b[0m\u001b[0;34m(\u001b[0m\u001b[0;34m)\u001b[0m\u001b[0;34m:\u001b[0m\u001b[0;34m\u001b[0m\u001b[0m\n\u001b[1;32m    208\u001b[0m             \u001b[0mhook_result\u001b[0m \u001b[0;34m=\u001b[0m \u001b[0mhook\u001b[0m\u001b[0;34m(\u001b[0m\u001b[0mself\u001b[0m\u001b[0;34m,\u001b[0m \u001b[0minput\u001b[0m\u001b[0;34m,\u001b[0m \u001b[0mresult\u001b[0m\u001b[0;34m)\u001b[0m\u001b[0;34m\u001b[0m\u001b[0m\n",
      "\u001b[0;32m/home/rohith/Documents/NLP/Dialogue/framework.pyc\u001b[0m in \u001b[0;36mforward\u001b[0;34m(self, sentence)\u001b[0m\n\u001b[1;32m    140\u001b[0m                 \u001b[0;31m#print type(embeds)\u001b[0m\u001b[0;34m\u001b[0m\u001b[0;34m\u001b[0m\u001b[0m\n\u001b[1;32m    141\u001b[0m                 \u001b[0;31m#print sentence.view(len(sentence),1,-1)\u001b[0m\u001b[0;34m\u001b[0m\u001b[0;34m\u001b[0m\u001b[0m\n\u001b[0;32m--> 142\u001b[0;31m                 \u001b[0moutput\u001b[0m\u001b[0;34m,\u001b[0m \u001b[0mself\u001b[0m\u001b[0;34m.\u001b[0m\u001b[0mhidden\u001b[0m \u001b[0;34m=\u001b[0m \u001b[0mself\u001b[0m\u001b[0;34m.\u001b[0m\u001b[0mlstm\u001b[0m\u001b[0;34m(\u001b[0m\u001b[0msentence\u001b[0m\u001b[0;34m.\u001b[0m\u001b[0mview\u001b[0m\u001b[0;34m(\u001b[0m\u001b[0mlen\u001b[0m\u001b[0;34m(\u001b[0m\u001b[0msentence\u001b[0m\u001b[0;34m)\u001b[0m\u001b[0;34m,\u001b[0m\u001b[0;36m1\u001b[0m\u001b[0;34m,\u001b[0m\u001b[0;34m-\u001b[0m\u001b[0;36m1\u001b[0m\u001b[0;34m)\u001b[0m\u001b[0;34m,\u001b[0m \u001b[0mself\u001b[0m\u001b[0;34m.\u001b[0m\u001b[0mhidden\u001b[0m\u001b[0;34m)\u001b[0m\u001b[0;34m\u001b[0m\u001b[0m\n\u001b[0m\u001b[1;32m    143\u001b[0m                 \u001b[0moutput\u001b[0m \u001b[0;34m=\u001b[0m \u001b[0mself\u001b[0m\u001b[0;34m.\u001b[0m\u001b[0mout\u001b[0m\u001b[0;34m(\u001b[0m\u001b[0moutput\u001b[0m\u001b[0;34m.\u001b[0m\u001b[0mview\u001b[0m\u001b[0;34m(\u001b[0m\u001b[0mlen\u001b[0m\u001b[0;34m(\u001b[0m\u001b[0msentence\u001b[0m\u001b[0;34m)\u001b[0m\u001b[0;34m,\u001b[0m\u001b[0;34m-\u001b[0m\u001b[0;36m1\u001b[0m\u001b[0;34m)\u001b[0m\u001b[0;34m)\u001b[0m\u001b[0;34m\u001b[0m\u001b[0m\n\u001b[1;32m    144\u001b[0m                 \u001b[0;31m# output = self.sf()    #need to modify the view to pass to linear layers\u001b[0m\u001b[0;34m\u001b[0m\u001b[0;34m\u001b[0m\u001b[0m\n",
      "\u001b[0;32m/usr/local/lib/python2.7/dist-packages/torch/nn/modules/module.pyc\u001b[0m in \u001b[0;36m__call__\u001b[0;34m(self, *input, **kwargs)\u001b[0m\n\u001b[1;32m    204\u001b[0m \u001b[0;34m\u001b[0m\u001b[0m\n\u001b[1;32m    205\u001b[0m     \u001b[0;32mdef\u001b[0m \u001b[0m__call__\u001b[0m\u001b[0;34m(\u001b[0m\u001b[0mself\u001b[0m\u001b[0;34m,\u001b[0m \u001b[0;34m*\u001b[0m\u001b[0minput\u001b[0m\u001b[0;34m,\u001b[0m \u001b[0;34m**\u001b[0m\u001b[0mkwargs\u001b[0m\u001b[0;34m)\u001b[0m\u001b[0;34m:\u001b[0m\u001b[0;34m\u001b[0m\u001b[0m\n\u001b[0;32m--> 206\u001b[0;31m         \u001b[0mresult\u001b[0m \u001b[0;34m=\u001b[0m \u001b[0mself\u001b[0m\u001b[0;34m.\u001b[0m\u001b[0mforward\u001b[0m\u001b[0;34m(\u001b[0m\u001b[0;34m*\u001b[0m\u001b[0minput\u001b[0m\u001b[0;34m,\u001b[0m \u001b[0;34m**\u001b[0m\u001b[0mkwargs\u001b[0m\u001b[0;34m)\u001b[0m\u001b[0;34m\u001b[0m\u001b[0m\n\u001b[0m\u001b[1;32m    207\u001b[0m         \u001b[0;32mfor\u001b[0m \u001b[0mhook\u001b[0m \u001b[0;32min\u001b[0m \u001b[0mself\u001b[0m\u001b[0;34m.\u001b[0m\u001b[0m_forward_hooks\u001b[0m\u001b[0;34m.\u001b[0m\u001b[0mvalues\u001b[0m\u001b[0;34m(\u001b[0m\u001b[0;34m)\u001b[0m\u001b[0;34m:\u001b[0m\u001b[0;34m\u001b[0m\u001b[0m\n\u001b[1;32m    208\u001b[0m             \u001b[0mhook_result\u001b[0m \u001b[0;34m=\u001b[0m \u001b[0mhook\u001b[0m\u001b[0;34m(\u001b[0m\u001b[0mself\u001b[0m\u001b[0;34m,\u001b[0m \u001b[0minput\u001b[0m\u001b[0;34m,\u001b[0m \u001b[0mresult\u001b[0m\u001b[0;34m)\u001b[0m\u001b[0;34m\u001b[0m\u001b[0m\n",
      "\u001b[0;32m/usr/local/lib/python2.7/dist-packages/torch/nn/modules/rnn.pyc\u001b[0m in \u001b[0;36mforward\u001b[0;34m(self, input, hx)\u001b[0m\n\u001b[1;32m     89\u001b[0m             \u001b[0mdropout_state\u001b[0m\u001b[0;34m=\u001b[0m\u001b[0mself\u001b[0m\u001b[0;34m.\u001b[0m\u001b[0mdropout_state\u001b[0m\u001b[0;34m\u001b[0m\u001b[0m\n\u001b[1;32m     90\u001b[0m         )\n\u001b[0;32m---> 91\u001b[0;31m         \u001b[0moutput\u001b[0m\u001b[0;34m,\u001b[0m \u001b[0mhidden\u001b[0m \u001b[0;34m=\u001b[0m \u001b[0mfunc\u001b[0m\u001b[0;34m(\u001b[0m\u001b[0minput\u001b[0m\u001b[0;34m,\u001b[0m \u001b[0mself\u001b[0m\u001b[0;34m.\u001b[0m\u001b[0mall_weights\u001b[0m\u001b[0;34m,\u001b[0m \u001b[0mhx\u001b[0m\u001b[0;34m)\u001b[0m\u001b[0;34m\u001b[0m\u001b[0m\n\u001b[0m\u001b[1;32m     92\u001b[0m         \u001b[0;32mif\u001b[0m \u001b[0mis_packed\u001b[0m\u001b[0;34m:\u001b[0m\u001b[0;34m\u001b[0m\u001b[0m\n\u001b[1;32m     93\u001b[0m             \u001b[0moutput\u001b[0m \u001b[0;34m=\u001b[0m \u001b[0mPackedSequence\u001b[0m\u001b[0;34m(\u001b[0m\u001b[0moutput\u001b[0m\u001b[0;34m,\u001b[0m \u001b[0mbatch_sizes\u001b[0m\u001b[0;34m)\u001b[0m\u001b[0;34m\u001b[0m\u001b[0m\n",
      "\u001b[0;32m/usr/local/lib/python2.7/dist-packages/torch/nn/_functions/rnn.pyc\u001b[0m in \u001b[0;36mforward\u001b[0;34m(input, *fargs, **fkwargs)\u001b[0m\n\u001b[1;32m    325\u001b[0m         \u001b[0;32melse\u001b[0m\u001b[0;34m:\u001b[0m\u001b[0;34m\u001b[0m\u001b[0m\n\u001b[1;32m    326\u001b[0m             \u001b[0mfunc\u001b[0m \u001b[0;34m=\u001b[0m \u001b[0mAutogradRNN\u001b[0m\u001b[0;34m(\u001b[0m\u001b[0;34m*\u001b[0m\u001b[0margs\u001b[0m\u001b[0;34m,\u001b[0m \u001b[0;34m**\u001b[0m\u001b[0mkwargs\u001b[0m\u001b[0;34m)\u001b[0m\u001b[0;34m\u001b[0m\u001b[0m\n\u001b[0;32m--> 327\u001b[0;31m         \u001b[0;32mreturn\u001b[0m \u001b[0mfunc\u001b[0m\u001b[0;34m(\u001b[0m\u001b[0minput\u001b[0m\u001b[0;34m,\u001b[0m \u001b[0;34m*\u001b[0m\u001b[0mfargs\u001b[0m\u001b[0;34m,\u001b[0m \u001b[0;34m**\u001b[0m\u001b[0mfkwargs\u001b[0m\u001b[0;34m)\u001b[0m\u001b[0;34m\u001b[0m\u001b[0m\n\u001b[0m\u001b[1;32m    328\u001b[0m \u001b[0;34m\u001b[0m\u001b[0m\n\u001b[1;32m    329\u001b[0m     \u001b[0;32mreturn\u001b[0m \u001b[0mforward\u001b[0m\u001b[0;34m\u001b[0m\u001b[0m\n",
      "\u001b[0;32m/usr/local/lib/python2.7/dist-packages/torch/nn/_functions/rnn.pyc\u001b[0m in \u001b[0;36mforward\u001b[0;34m(input, weight, hidden)\u001b[0m\n\u001b[1;32m    225\u001b[0m             \u001b[0minput\u001b[0m \u001b[0;34m=\u001b[0m \u001b[0minput\u001b[0m\u001b[0;34m.\u001b[0m\u001b[0mtranspose\u001b[0m\u001b[0;34m(\u001b[0m\u001b[0;36m0\u001b[0m\u001b[0;34m,\u001b[0m \u001b[0;36m1\u001b[0m\u001b[0;34m)\u001b[0m\u001b[0;34m\u001b[0m\u001b[0m\n\u001b[1;32m    226\u001b[0m \u001b[0;34m\u001b[0m\u001b[0m\n\u001b[0;32m--> 227\u001b[0;31m         \u001b[0mnexth\u001b[0m\u001b[0;34m,\u001b[0m \u001b[0moutput\u001b[0m \u001b[0;34m=\u001b[0m \u001b[0mfunc\u001b[0m\u001b[0;34m(\u001b[0m\u001b[0minput\u001b[0m\u001b[0;34m,\u001b[0m \u001b[0mhidden\u001b[0m\u001b[0;34m,\u001b[0m \u001b[0mweight\u001b[0m\u001b[0;34m)\u001b[0m\u001b[0;34m\u001b[0m\u001b[0m\n\u001b[0m\u001b[1;32m    228\u001b[0m \u001b[0;34m\u001b[0m\u001b[0m\n\u001b[1;32m    229\u001b[0m         \u001b[0;32mif\u001b[0m \u001b[0mbatch_first\u001b[0m \u001b[0;32mand\u001b[0m \u001b[0mbatch_sizes\u001b[0m \u001b[0;32mis\u001b[0m \u001b[0mNone\u001b[0m\u001b[0;34m:\u001b[0m\u001b[0;34m\u001b[0m\u001b[0m\n",
      "\u001b[0;32m/usr/local/lib/python2.7/dist-packages/torch/nn/_functions/rnn.pyc\u001b[0m in \u001b[0;36mforward\u001b[0;34m(input, hidden, weight)\u001b[0m\n\u001b[1;32m     71\u001b[0m             \u001b[0minput\u001b[0m \u001b[0;34m=\u001b[0m \u001b[0mtorch\u001b[0m\u001b[0;34m.\u001b[0m\u001b[0mcat\u001b[0m\u001b[0;34m(\u001b[0m\u001b[0mall_output\u001b[0m\u001b[0;34m,\u001b[0m \u001b[0minput\u001b[0m\u001b[0;34m.\u001b[0m\u001b[0mdim\u001b[0m\u001b[0;34m(\u001b[0m\u001b[0;34m)\u001b[0m \u001b[0;34m-\u001b[0m \u001b[0;36m1\u001b[0m\u001b[0;34m)\u001b[0m\u001b[0;34m\u001b[0m\u001b[0m\n\u001b[1;32m     72\u001b[0m \u001b[0;34m\u001b[0m\u001b[0m\n\u001b[0;32m---> 73\u001b[0;31m             \u001b[0;32mif\u001b[0m \u001b[0mdropout\u001b[0m \u001b[0;34m!=\u001b[0m \u001b[0;36m0\u001b[0m \u001b[0;32mand\u001b[0m \u001b[0mi\u001b[0m \u001b[0;34m<\u001b[0m \u001b[0mnum_layers\u001b[0m \u001b[0;34m-\u001b[0m \u001b[0;36m1\u001b[0m\u001b[0;34m:\u001b[0m\u001b[0;34m\u001b[0m\u001b[0m\n\u001b[0m\u001b[1;32m     74\u001b[0m                 \u001b[0minput\u001b[0m \u001b[0;34m=\u001b[0m \u001b[0mF\u001b[0m\u001b[0;34m.\u001b[0m\u001b[0mdropout\u001b[0m\u001b[0;34m(\u001b[0m\u001b[0minput\u001b[0m\u001b[0;34m,\u001b[0m \u001b[0mp\u001b[0m\u001b[0;34m=\u001b[0m\u001b[0mdropout\u001b[0m\u001b[0;34m,\u001b[0m \u001b[0mtraining\u001b[0m\u001b[0;34m=\u001b[0m\u001b[0mtrain\u001b[0m\u001b[0;34m,\u001b[0m \u001b[0minplace\u001b[0m\u001b[0;34m=\u001b[0m\u001b[0mFalse\u001b[0m\u001b[0;34m)\u001b[0m\u001b[0;34m\u001b[0m\u001b[0m\n\u001b[1;32m     75\u001b[0m \u001b[0;34m\u001b[0m\u001b[0m\n",
      "\u001b[0;31mKeyboardInterrupt\u001b[0m: "
     ]
    }
   ],
   "source": [
    "import main\n",
    "import framework as fw\n",
    "reload(main)\n",
    "reload(fw)\n",
    "main.train_lstm('F1.txt',freq=10,n_epochs = 5)"
   ]
  },
  {
   "cell_type": "code",
   "execution_count": 20,
   "metadata": {},
   "outputs": [
    {
     "name": "stdout",
     "output_type": "stream",
     "text": [
      "loading word vectors from /home/rohith/Documents/NLP/Dialogue/glove.840B.300d.pt\n",
      "\n",
      "you\n",
      "<unk>\n"
     ]
    },
    {
     "data": {
      "text/plain": [
       "' you <unk> '"
      ]
     },
     "execution_count": 20,
     "metadata": {},
     "output_type": "execute_result"
    }
   ],
   "source": [
    "main.predict_lstm(\"do you know me\",\"F1.txt\",10)"
   ]
  },
  {
   "cell_type": "code",
   "execution_count": null,
   "metadata": {
    "collapsed": true
   },
   "outputs": [],
   "source": [
    "f = open()"
   ]
  },
  {
   "cell_type": "markdown",
   "metadata": {},
   "source": [
    "# Mem Net test"
   ]
  },
  {
   "cell_type": "code",
   "execution_count": 36,
   "metadata": {},
   "outputs": [
    {
     "name": "stdout",
     "output_type": "stream",
     "text": [
      "hell\n",
      "Variable containing:\n",
      " 0.2197 -0.0050 -0.6119\n",
      " 0.2197 -0.0050 -0.6119\n",
      " 0.2197 -0.0050 -0.6119\n",
      "[torch.FloatTensor of size 3x3]\n",
      " Variable containing:\n",
      " 0.4394 -0.0101 -1.2238\n",
      " 0.4394 -0.0101 -1.2238\n",
      " 0.4394 -0.0101 -1.2238\n",
      "[torch.FloatTensor of size 3x3]\n",
      " Variable containing:\n",
      " 0.2197 -0.0050 -0.6119\n",
      "[torch.FloatTensor of size 1x3]\n",
      "\n"
     ]
    }
   ],
   "source": [
    "import torch\n",
    "import torch.autograd as ag\n",
    "\n",
    "a = ag.Variable(torch.randn(1,3))\n",
    "b = 0\n",
    "b = torch.cat((a,a))\n",
    "b = torch.cat((b,a))\n",
    "if b==0:\n",
    "    print \"hell\"\n",
    "c = torch.t(a)\n",
    "print b,b+b,a\n"
   ]
  },
  {
   "cell_type": "code",
   "execution_count": 20,
   "metadata": {},
   "outputs": [
    {
     "name": "stdout",
     "output_type": "stream",
     "text": [
      "2\n",
      "2\n",
      "3\n",
      "3\n",
      "45\n",
      "45\n"
     ]
    },
    {
     "ename": "KeyboardInterrupt",
     "evalue": "",
     "output_type": "error",
     "traceback": [
      "\u001b[0;31m---------------------------------------------------------------------------\u001b[0m",
      "\u001b[0;31mKeyboardInterrupt\u001b[0m                         Traceback (most recent call last)",
      "\u001b[0;32m<ipython-input-20-d5804709e87f>\u001b[0m in \u001b[0;36m<module>\u001b[0;34m()\u001b[0m\n\u001b[1;32m      1\u001b[0m \u001b[0;32mwhile\u001b[0m \u001b[0;36m1\u001b[0m\u001b[0;34m:\u001b[0m\u001b[0;34m\u001b[0m\u001b[0m\n\u001b[0;32m----> 2\u001b[0;31m     \u001b[0mi\u001b[0m \u001b[0;34m=\u001b[0m \u001b[0mint\u001b[0m\u001b[0;34m(\u001b[0m\u001b[0mraw_input\u001b[0m\u001b[0;34m(\u001b[0m\u001b[0;34m)\u001b[0m\u001b[0;34m)\u001b[0m\u001b[0;34m\u001b[0m\u001b[0m\n\u001b[0m\u001b[1;32m      3\u001b[0m     \u001b[0;32mprint\u001b[0m \u001b[0mi\u001b[0m\u001b[0;34m\u001b[0m\u001b[0m\n",
      "\u001b[0;32m/usr/local/lib/python2.7/dist-packages/ipykernel/kernelbase.pyc\u001b[0m in \u001b[0;36mraw_input\u001b[0;34m(self, prompt)\u001b[0m\n\u001b[1;32m    703\u001b[0m             \u001b[0mself\u001b[0m\u001b[0;34m.\u001b[0m\u001b[0m_parent_ident\u001b[0m\u001b[0;34m,\u001b[0m\u001b[0;34m\u001b[0m\u001b[0m\n\u001b[1;32m    704\u001b[0m             \u001b[0mself\u001b[0m\u001b[0;34m.\u001b[0m\u001b[0m_parent_header\u001b[0m\u001b[0;34m,\u001b[0m\u001b[0;34m\u001b[0m\u001b[0m\n\u001b[0;32m--> 705\u001b[0;31m             \u001b[0mpassword\u001b[0m\u001b[0;34m=\u001b[0m\u001b[0mFalse\u001b[0m\u001b[0;34m,\u001b[0m\u001b[0;34m\u001b[0m\u001b[0m\n\u001b[0m\u001b[1;32m    706\u001b[0m         )\n\u001b[1;32m    707\u001b[0m \u001b[0;34m\u001b[0m\u001b[0m\n",
      "\u001b[0;32m/usr/local/lib/python2.7/dist-packages/ipykernel/kernelbase.pyc\u001b[0m in \u001b[0;36m_input_request\u001b[0;34m(self, prompt, ident, parent, password)\u001b[0m\n\u001b[1;32m    733\u001b[0m             \u001b[0;32mexcept\u001b[0m \u001b[0mKeyboardInterrupt\u001b[0m\u001b[0;34m:\u001b[0m\u001b[0;34m\u001b[0m\u001b[0m\n\u001b[1;32m    734\u001b[0m                 \u001b[0;31m# re-raise KeyboardInterrupt, to truncate traceback\u001b[0m\u001b[0;34m\u001b[0m\u001b[0;34m\u001b[0m\u001b[0m\n\u001b[0;32m--> 735\u001b[0;31m                 \u001b[0;32mraise\u001b[0m \u001b[0mKeyboardInterrupt\u001b[0m\u001b[0;34m\u001b[0m\u001b[0m\n\u001b[0m\u001b[1;32m    736\u001b[0m             \u001b[0;32melse\u001b[0m\u001b[0;34m:\u001b[0m\u001b[0;34m\u001b[0m\u001b[0m\n\u001b[1;32m    737\u001b[0m                 \u001b[0;32mbreak\u001b[0m\u001b[0;34m\u001b[0m\u001b[0m\n",
      "\u001b[0;31mKeyboardInterrupt\u001b[0m: "
     ]
    }
   ],
   "source": [
    "while 1:\n",
    "    i = int(raw_input())\n",
    "    print i"
   ]
  }
 ],
 "metadata": {
  "kernelspec": {
   "display_name": "Python 2",
   "language": "python",
   "name": "python2"
  },
  "language_info": {
   "codemirror_mode": {
    "name": "ipython",
    "version": 2
   },
   "file_extension": ".py",
   "mimetype": "text/x-python",
   "name": "python",
   "nbconvert_exporter": "python",
   "pygments_lexer": "ipython2",
   "version": "2.7.12"
  }
 },
 "nbformat": 4,
 "nbformat_minor": 2
}
